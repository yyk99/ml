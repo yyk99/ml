{
 "cells": [
  {
   "cell_type": "code",
   "execution_count": null,
   "metadata": {},
   "outputs": [],
   "source": [
    "# 0. Check environment\n",
    "# matplotlib numpy pandas scipy scikit-learn\n",
    "import matplotlib ; print(matplotlib.__version__)\n",
    "import numpy ; print(numpy.__version__)\n",
    "import pandas ; print(pandas.__version__)\n",
    "import scipy ; print(scipy.__version__)\n",
    "import sklearn ; print(sklearn.__version__)"
   ]
  }
 ],
 "metadata": {
  "kernelspec": {
   "display_name": "Python 3",
   "language": "python",
   "name": "python3"
  },
  "language_info": {
   "codemirror_mode": {
    "name": "ipython",
    "version": 3
   },
   "file_extension": ".py",
   "mimetype": "text/x-python",
   "name": "python",
   "nbconvert_exporter": "python",
   "pygments_lexer": "ipython3",
   "version": "3.8.7"
  }
 },
 "nbformat": 4,
 "nbformat_minor": 4
}
