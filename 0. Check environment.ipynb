{
 "cells": [
  {
   "cell_type": "code",
   "execution_count": 1,
   "metadata": {},
   "outputs": [
    {
     "name": "stdout",
     "output_type": "stream",
     "text": [
      "3.2.1\n",
      "1.18.2\n",
      "1.0.3\n",
      "1.4.1\n",
      "0.22.2.post1\n"
     ]
    }
   ],
   "source": [
    "# 0. Check environment\n",
    "# matplotlib numpy pandas scipy scikit-learn\n",
    "import matplotlib ; print(matplotlib.__version__)\n",
    "import numpy ; print(numpy.__version__)\n",
    "import pandas ; print(pandas.__version__)\n",
    "import scipy ; print(scipy.__version__)\n",
    "import sklearn ; print(sklearn.__version__)"
   ]
  }
 ],
 "metadata": {
  "kernelspec": {
   "display_name": "Python 3",
   "language": "python",
   "name": "python3"
  },
  "language_info": {
   "codemirror_mode": {
    "name": "ipython",
    "version": 3
   },
   "file_extension": ".py",
   "mimetype": "text/x-python",
   "name": "python",
   "nbconvert_exporter": "python",
   "pygments_lexer": "ipython3",
   "version": "3.8.2"
  }
 },
 "nbformat": 4,
 "nbformat_minor": 4
}
