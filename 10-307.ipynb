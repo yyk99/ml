{
 "cells": [
  {
   "cell_type": "markdown",
   "id": "supreme-diving",
   "metadata": {},
   "source": [
    "## Building a Regression MLP Using the Sequential API\n",
    "\n",
    "Let’s switch to the California housing problem and tackle it using a regression neural network. For simplicity, we will use Scikit-Learn’s fetch_california_housing() function to load the data. This dataset is simpler than the one we used in Chapter   2, since it contains only numerical features (there is no ocean_proximity feature), and there is no missing value. After loading the data, we split it into a training set, a validation set, and a test set, and we scale all the features:\n"
   ]
  },
  {
   "cell_type": "code",
   "execution_count": 2,
   "id": "developed-recipe",
   "metadata": {},
   "outputs": [],
   "source": [
    "from sklearn.datasets import fetch_california_housing \n",
    "from sklearn.model_selection import train_test_split \n",
    "from sklearn.preprocessing import StandardScaler \n",
    "\n",
    "housing = fetch_california_housing() \n",
    "X_train_full, X_test, y_train_full, y_test = train_test_split( housing.data, housing.target) \n",
    "X_train, X_valid, y_train, y_valid = train_test_split( X_train_full, y_train_full) \n",
    "\n",
    "scaler = StandardScaler() \n",
    "X_train = scaler.fit_transform( X_train) \n",
    "X_valid = scaler.transform( X_valid) \n",
    "X_test = scaler.transform( X_test)\n",
    "\n",
    "# Géron, Aurélien. Hands-On Machine Learning with Scikit-Learn, Keras, and TensorFlow (pp. 307-308). O'Reilly Media. Kindle Edition. "
   ]
  },
  {
   "cell_type": "code",
   "execution_count": 7,
   "id": "european-summary",
   "metadata": {},
   "outputs": [
    {
     "name": "stdout",
     "output_type": "stream",
     "text": [
      "Epoch 1/20\n",
      "363/363 [==============================] - 1s 3ms/step - loss: 1.4690 - val_loss: 0.5640\n",
      "Epoch 2/20\n",
      "363/363 [==============================] - 0s 738us/step - loss: 0.5468 - val_loss: 0.5165\n",
      "Epoch 3/20\n",
      "363/363 [==============================] - 0s 736us/step - loss: 0.5139 - val_loss: 0.4782\n",
      "Epoch 4/20\n",
      "363/363 [==============================] - 0s 738us/step - loss: 0.4755 - val_loss: 0.4780\n",
      "Epoch 5/20\n",
      "363/363 [==============================] - 0s 776us/step - loss: 0.4881 - val_loss: 0.4673\n",
      "Epoch 6/20\n",
      "363/363 [==============================] - 0s 774us/step - loss: 0.4839 - val_loss: 0.4489\n",
      "Epoch 7/20\n",
      "363/363 [==============================] - 0s 886us/step - loss: 0.4576 - val_loss: 0.4389\n",
      "Epoch 8/20\n",
      "363/363 [==============================] - 0s 807us/step - loss: 0.4191 - val_loss: 0.4310\n",
      "Epoch 9/20\n",
      "363/363 [==============================] - 0s 799us/step - loss: 0.4379 - val_loss: 0.4284\n",
      "Epoch 10/20\n",
      "363/363 [==============================] - 0s 786us/step - loss: 0.4298 - val_loss: 0.4225\n",
      "Epoch 11/20\n",
      "363/363 [==============================] - 0s 780us/step - loss: 0.4210 - val_loss: 0.4171\n",
      "Epoch 12/20\n",
      "363/363 [==============================] - 0s 787us/step - loss: 0.4079 - val_loss: 0.4140\n",
      "Epoch 13/20\n",
      "363/363 [==============================] - 0s 757us/step - loss: 0.4085 - val_loss: 0.4083\n",
      "Epoch 14/20\n",
      "363/363 [==============================] - 0s 796us/step - loss: 0.4028 - val_loss: 0.4023\n",
      "Epoch 15/20\n",
      "363/363 [==============================] - 0s 786us/step - loss: 0.3972 - val_loss: 0.4011\n",
      "Epoch 16/20\n",
      "363/363 [==============================] - 0s 971us/step - loss: 0.3996 - val_loss: 0.3949\n",
      "Epoch 17/20\n",
      "363/363 [==============================] - 0s 766us/step - loss: 0.3835 - val_loss: 0.4052\n",
      "Epoch 18/20\n",
      "363/363 [==============================] - 0s 785us/step - loss: 0.3896 - val_loss: 0.4215\n",
      "Epoch 19/20\n",
      "363/363 [==============================] - 0s 738us/step - loss: 0.4098 - val_loss: 0.3940\n",
      "Epoch 20/20\n",
      "363/363 [==============================] - 0s 776us/step - loss: 0.4166 - val_loss: 0.3947\n",
      "162/162 [==============================] - 0s 534us/step - loss: 0.3722\n"
     ]
    }
   ],
   "source": [
    "import numpy as np \n",
    "import tensorflow as tf\n",
    "from tensorflow import keras\n",
    "\n",
    "\n",
    "model = keras.models.Sequential(\n",
    "    [ keras.layers.Dense( 30, activation = \"relu\", input_shape = X_train.shape[ 1:]), \n",
    "    keras.layers.Dense( 1) ]) \n",
    "model.compile( loss = \"mean_squared_error\", optimizer = \"sgd\") \n",
    "history = model.fit( X_train, y_train, epochs = 20, validation_data =( X_valid, y_valid)) \n",
    "mse_test = model.evaluate( X_test, y_test) \n",
    "X_new = X_test[: 3] \n",
    "\n",
    "# pretend these are new instances y_pred = model.predict( X_new)\n",
    "\n",
    "# Géron, Aurélien. Hands-On Machine Learning with Scikit-Learn, Keras, and TensorFlow (p. 308). O'Reilly Media. Kindle Edition. "
   ]
  },
  {
   "cell_type": "markdown",
   "id": "fleet-framework",
   "metadata": {},
   "source": [
    "## Building Complex Models Using the Functional API\n",
    "\n",
    "<img src=\"images/10-14.PNG\"></img>\n",
    "\n",
    "Géron, Aurélien. Hands-On Machine Learning with Scikit-Learn, Keras, and TensorFlow (p. 308). O'Reilly Media. Kindle Edition. "
   ]
  },
  {
   "cell_type": "code",
   "execution_count": 8,
   "id": "stylish-thermal",
   "metadata": {},
   "outputs": [],
   "source": [
    "input_ = keras.layers.Input( shape = X_train.shape[ 1:]) \n",
    "hidden1 = keras.layers.Dense( 30, activation = \"relu\")( input_) \n",
    "hidden2 = keras.layers.Dense( 30, activation = \"relu\")( hidden1) \n",
    "concat = keras.layers.Concatenate()([ input_, hidden2]) \n",
    "output = keras.layers.Dense( 1)( concat) \n",
    "model = keras.Model( inputs = [ input_], outputs =[ output])\n",
    "\n",
    "# Géron, Aurélien. Hands-On Machine Learning with Scikit-Learn, Keras, and TensorFlow (p. 309). O'Reilly Media. Kindle Edition. "
   ]
  },
  {
   "cell_type": "code",
   "execution_count": null,
   "id": "removable-companion",
   "metadata": {},
   "outputs": [],
   "source": []
  }
 ],
 "metadata": {
  "kernelspec": {
   "display_name": "Python 3",
   "language": "python",
   "name": "python3"
  },
  "language_info": {
   "codemirror_mode": {
    "name": "ipython",
    "version": 3
   },
   "file_extension": ".py",
   "mimetype": "text/x-python",
   "name": "python",
   "nbconvert_exporter": "python",
   "pygments_lexer": "ipython3",
   "version": "3.8.7"
  }
 },
 "nbformat": 4,
 "nbformat_minor": 5
}
