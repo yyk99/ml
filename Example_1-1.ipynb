{
 "cells": [
  {
   "cell_type": "code",
   "execution_count": null,
   "metadata": {},
   "outputs": [],
   "source": [
    "# cd datasets\\\\lifesat"
   ]
  },
  {
   "cell_type": "code",
   "execution_count": 29,
   "metadata": {},
   "outputs": [],
   "source": [
    "def prepare_country_stats(oecd_bli, gdp_per_capita):\n",
    "    oecd_bli = oecd_bli[oecd_bli[\"INEQUALITY\"]==\"TOT\"]\n",
    "    oecd_bli = oecd_bli.pivot(index=\"Country\", columns=\"Indicator\", values=\"Value\")\n",
    "    gdp_per_capita.rename(columns={\"2015\": \"GDP per capita\"}, inplace=True)\n",
    "    gdp_per_capita.set_index(\"Country\", inplace=True)\n",
    "    full_country_stats = pd.merge(left=oecd_bli, right=gdp_per_capita,\n",
    "                                  left_index=True, right_index=True)\n",
    "    full_country_stats.sort_values(by=\"GDP per capita\", inplace=True)\n",
    "    remove_indices = [0, 1, 6, 8, 33, 34, 35]\n",
    "    keep_indices = list(set(range(36)) - set(remove_indices))\n",
    "    return full_country_stats[[\"GDP per capita\", 'Life satisfaction']].iloc[keep_indices]"
   ]
  },
  {
   "cell_type": "code",
   "execution_count": 31,
   "metadata": {
    "scrolled": false
   },
   "outputs": [
    {
     "name": "stdout",
     "output_type": "stream",
     "text": [
      "[[5.96242338]]\n"
     ]
    },
    {
     "data": {
      "text/plain": [
       "[<matplotlib.lines.Line2D at 0x15437af0>]"
      ]
     },
     "execution_count": 31,
     "metadata": {},
     "output_type": "execute_result"
    },
    {
     "data": {
      "image/png": "[encoded data removed]",
      "text/plain": [
       "<Figure size 432x288 with 1 Axes>"
      ]
     },
     "metadata": {
      "needs_background": "light"
     },
     "output_type": "display_data"
    }
   ],
   "source": [
    "import matplotlib.pyplot as plt \n",
    "import numpy as np\n",
    "import pandas as pd \n",
    "import sklearn.linear_model \n",
    "\n",
    "# Load the data \n",
    "oecd_bli = pd.read_csv(\"oecd_bli_2015.csv\", thousands =',') \n",
    "gdp_per_capita = pd.read_csv(\"gdp_per_capita.csv\", thousands =',', \n",
    "                             delimiter ='\\t', encoding ='latin1', na_values =\"n/a\") \n",
    "\n",
    "# Prepare the data \n",
    "country_stats = prepare_country_stats(oecd_bli, gdp_per_capita) \n",
    "X = np.c_[country_stats[\"GDP per capita\"]] \n",
    "y = np.c_[country_stats[\"Life satisfaction\"]] \n",
    "\n",
    "# Visualize the data \n",
    "country_stats.plot(kind ='scatter', x =\"GDP per capita\", y ='Life satisfaction') \n",
    "# plt.show() \n",
    "\n",
    "# Select a linear model \n",
    "model = sklearn.linear_model.LinearRegression() \n",
    "\n",
    "# Train the model \n",
    "model.fit(X, y) \n",
    "\n",
    "# Make a prediction for Cyprus \n",
    "X_new = [[ 22587]] # Cyprus's GDP per capita \n",
    "\n",
    "print(model.predict(X_new)) # outputs [[ 5.96242338]]\n",
    "y_predict = model.predict(X)\n",
    "plt.plot(X, y_predict, color='green')"
   ]
  },
  {
   "cell_type": "code",
   "execution_count": null,
   "metadata": {},
   "outputs": [],
   "source": []
  }
 ],
 "metadata": {
  "kernelspec": {
   "display_name": "Python 3",
   "language": "python",
   "name": "python3"
  },
  "language_info": {
   "codemirror_mode": {
    "name": "ipython",
    "version": 3
   },
   "file_extension": ".py",
   "mimetype": "text/x-python",
   "name": "python",
   "nbconvert_exporter": "python",
   "pygments_lexer": "ipython3",
   "version": "3.8.0"
  }
 },
 "nbformat": 4,
 "nbformat_minor": 4
}
