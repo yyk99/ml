{
 "cells": [
  {
   "cell_type": "code",
   "execution_count": null,
   "metadata": {},
   "outputs": [],
   "source": [
    "import os \n",
    "import tarfile\n",
    "import urllib \n",
    "\n",
    "DOWNLOAD_ROOT = \"https://raw.githubusercontent.com/ageron/handson-ml2/master/\" \n",
    "HOUSING_PATH = os.path.join(\"datasets\", \"housing\")\n",
    "HOUSING_URL = DOWNLOAD_ROOT + \"datasets/housing/housing.tgz\" \n",
    "\n",
    "def fetch_housing_data( housing_url = HOUSING_URL, housing_path = HOUSING_PATH): \n",
    "    os.makedirs(housing_path, exist_ok = True) \n",
    "    tgz_path = os.path.join(housing_path, \"housing.tgz\") \n",
    "    urllib.request.urlretrieve( housing_url, tgz_path) \n",
    "    housing_tgz = tarfile.open( tgz_path) \n",
    "    housing_tgz.extractall( path = housing_path) \n",
    "    housing_tgz.close()"
   ]
  },
  {
   "cell_type": "code",
   "execution_count": null,
   "metadata": {},
   "outputs": [],
   "source": [
    "fetch_housing_data()"
   ]
  },
  {
   "cell_type": "code",
   "execution_count": null,
   "metadata": {},
   "outputs": [],
   "source": [
    "import pandas as pd \n",
    "def load_housing_data( housing_path = HOUSING_PATH): \n",
    "    csv_path = os.path.join( housing_path, \"housing.csv\") \n",
    "    return pd.read_csv( csv_path)"
   ]
  },
  {
   "cell_type": "code",
   "execution_count": null,
   "metadata": {},
   "outputs": [],
   "source": [
    "housing = load_housing_data()\n",
    "housing.head()"
   ]
  },
  {
   "cell_type": "code",
   "execution_count": null,
   "metadata": {},
   "outputs": [],
   "source": [
    "housing.info()"
   ]
  },
  {
   "cell_type": "code",
   "execution_count": null,
   "metadata": {},
   "outputs": [],
   "source": [
    "housing[\"ocean_proximity\"]. value_counts()"
   ]
  },
  {
   "cell_type": "code",
   "execution_count": null,
   "metadata": {},
   "outputs": [],
   "source": [
    "housing.describe()"
   ]
  },
  {
   "cell_type": "code",
   "execution_count": null,
   "metadata": {},
   "outputs": [],
   "source": [
    "%matplotlib inline\n",
    "\n",
    "import matplotlib.pyplot as plt \n",
    "housing.hist( bins = 50, figsize =( 20,15)) \n",
    "plt.show()"
   ]
  },
  {
   "cell_type": "code",
   "execution_count": null,
   "metadata": {},
   "outputs": [],
   "source": [
    "import numpy as np \n",
    "\n",
    "def split_train_test( data, test_ratio): \n",
    "    shuffled_indices = np.random.permutation( len( data)) \n",
    "    test_set_size = int( len( data) * test_ratio) \n",
    "    test_indices = shuffled_indices[:test_set_size] \n",
    "    train_indices = shuffled_indices[test_set_size:] \n",
    "    return data.iloc[train_indices], data.iloc[test_indices]"
   ]
  },
  {
   "cell_type": "code",
   "execution_count": null,
   "metadata": {},
   "outputs": [],
   "source": [
    "train_set, test_set = split_train_test(housing, 0.2)"
   ]
  },
  {
   "cell_type": "code",
   "execution_count": null,
   "metadata": {},
   "outputs": [],
   "source": [
    "len(train_set)"
   ]
  },
  {
   "cell_type": "code",
   "execution_count": null,
   "metadata": {},
   "outputs": [],
   "source": [
    "len(test_set)"
   ]
  },
  {
   "cell_type": "code",
   "execution_count": null,
   "metadata": {},
   "outputs": [],
   "source": [
    "from zlib import crc32 \n",
    "def test_set_check( identifier, test_ratio): \n",
    "    return crc32( np.int64( identifier)) & 0xffffffff < test_ratio * 2** 32 \n",
    "\n",
    "def split_train_test_by_id( data, test_ratio, id_column): \n",
    "    ids = data[id_column] \n",
    "    in_test_set = ids.apply( lambda id_: test_set_check( id_, test_ratio)) \n",
    "    return data.loc[~in_test_set], data.loc[ in_test_set]"
   ]
  },
  {
   "cell_type": "code",
   "execution_count": null,
   "metadata": {},
   "outputs": [],
   "source": [
    "# Unfortunately, the housing dataset does not have an identifier column. \n",
    "# The simplest solution is to use the row index as the ID: \n",
    "\n",
    "housing_with_id = housing.reset_index() # adds an ` index ` column\n",
    "train_set, test_set = split_train_test_by_id( housing_with_id, 0.2, \"index\")"
   ]
  },
  {
   "cell_type": "code",
   "execution_count": null,
   "metadata": {},
   "outputs": [],
   "source": [
    "#\n",
    "#\n",
    "#\n",
    "\n",
    "housing[\"income_cat\"] = pd.cut(housing[\"median_income\"], \n",
    "                                bins =[ 0., 1.5, 3.0, 4.5, 6., np.inf], \n",
    "                                labels =[ 1, 2, 3, 4, 5])\n",
    "housing[\"income_cat\"].hist()"
   ]
  },
  {
   "cell_type": "code",
   "execution_count": null,
   "metadata": {},
   "outputs": [],
   "source": [
    "# Now you are ready to do stratified sampling based on the income category. \n",
    "# For this you can use Scikit-Learn’s StratifiedShuffleSplit class:\n",
    "\n",
    "from sklearn.model_selection import StratifiedShuffleSplit \n",
    "\n",
    "split = StratifiedShuffleSplit(n_splits = 1, test_size = 0.2, random_state = 42) \n",
    "for train_index, test_index in split.split(housing, housing[\"income_cat\"]): \n",
    "    strat_train_set = housing.loc[train_index] \n",
    "    strat_test_set = housing.loc[test_index]\n"
   ]
  },
  {
   "cell_type": "code",
   "execution_count": null,
   "metadata": {},
   "outputs": [],
   "source": [
    "# Let’s see if this worked as expected. \n",
    "# You can start by looking at the income category proportions in the test set: \n",
    "\n",
    "strat_test_set[\"income_cat\"].value_counts() / len(strat_test_set)"
   ]
  },
  {
   "cell_type": "code",
   "execution_count": null,
   "metadata": {},
   "outputs": [],
   "source": [
    "# Picture 2.10 .... no idea how it was created"
   ]
  },
  {
   "cell_type": "code",
   "execution_count": null,
   "metadata": {},
   "outputs": [],
   "source": [
    "# Now you should remove the income_cat attribute so the data is back to its original state: \n",
    "\n",
    "for set_ in (strat_train_set, strat_test_set): \n",
    "    set_.drop(\"income_cat\", axis = 1, inplace = True)\n"
   ]
  },
  {
   "cell_type": "code",
   "execution_count": null,
   "metadata": {},
   "outputs": [],
   "source": [
    "# make a copy to protect original data\n",
    "housing = strat_train_set.copy()"
   ]
  },
  {
   "cell_type": "markdown",
   "metadata": {},
   "source": [
    "## Visualizing Geographical Data \n",
    "Since there is geographical information (latitude and longitude), \n",
    "it is a good idea to create a scatterplot of all districts to visualize the data (Figure   2-11): "
   ]
  },
  {
   "cell_type": "code",
   "execution_count": null,
   "metadata": {
    "scrolled": true
   },
   "outputs": [],
   "source": [
    "housing.plot(kind = \"scatter\", x = \"longitude\", y = \"latitude\")"
   ]
  },
  {
   "cell_type": "code",
   "execution_count": null,
   "metadata": {},
   "outputs": [],
   "source": [
    "housing.plot(kind = \"scatter\", x = \"longitude\", y = \"latitude\", alpha = 0.1)"
   ]
  },
  {
   "cell_type": "code",
   "execution_count": null,
   "metadata": {},
   "outputs": [],
   "source": [
    "# Now let’s look at the housing prices (Figure   2-13). \n",
    "# The radius of each circle represents the district’s population (option s), \n",
    "# and the color represents the price (option c). Wewill use a predefined color map (option cmap) called jet, which ranges \n",
    "# from blue (low values) to red (high prices): 16 \n",
    "\n",
    "housing.plot(kind =\"scatter\", x = \"longitude\", y = \"latitude\", alpha = 0.4, \n",
    "             s = housing[\"population\"] / 100, label = \"population\", figsize =( 10,7), \n",
    "             c = \"median_house_value\", cmap = plt.get_cmap(\"jet\"), colorbar = True, ) \n",
    "plt.legend()"
   ]
  },
  {
   "cell_type": "code",
   "execution_count": null,
   "metadata": {},
   "outputs": [],
   "source": [
    "# Looking for Correlations Since the dataset is not too large, \n",
    "# you can easily compute the standard correlation coefficient \n",
    "# (also called Pearson’s r) between every pair of attributes using the corr() method: \n",
    "\n",
    "corr_matrix = housing.corr()\n",
    "corr_matrix[\"median_house_value\"].sort_values(ascending = False)"
   ]
  },
  {
   "cell_type": "code",
   "execution_count": null,
   "metadata": {},
   "outputs": [],
   "source": [
    "# Another way to check for correlation between attributes is to use the \n",
    "# pandas scatter_matrix() function, which plots every numerical attribute \n",
    "# against every other numerical attribute. Since there are now 11 numerical attributes, \n",
    "# you would get 112 = 121 plots, which would not fit on a page — so let’s just focus \n",
    "# on a few promising attributes that seem most correlated with the median \n",
    "# housing value (Figure   2-15): \n",
    "\n",
    "from pandas.plotting import scatter_matrix \n",
    "attributes = [\"median_house_value\", \"median_income\", \"total_rooms\", \"housing_median_age\"] \n",
    "scatter_matrix(housing[attributes], figsize = (12, 8))"
   ]
  },
  {
   "cell_type": "code",
   "execution_count": null,
   "metadata": {},
   "outputs": [],
   "source": [
    "# The most promising attribute to predict the median house value is the median income, \n",
    "# so let’s zoom in on their correlation scatterplot (Figure   2-16): \n",
    "\n",
    "housing.plot(kind = \"scatter\", x = \"median_income\", y = \"median_house_value\", alpha = 0.1)"
   ]
  },
  {
   "cell_type": "markdown",
   "metadata": {},
   "source": [
    "## Experimenting with Attribute Combinations\n",
    "Hopefully the previous sections gave you an idea of a few ways you can explore the data and gain insights. You identified a few data quirks that you may want to clean up before feeding the data to a Machine Learning algorithm, and you found interesting correlations between attributes, in particular with the target attribute. You also noticed that some attributes have a tail-heavy distribution, so you may want to transform them (e.g., by computing their logarithm). Of course, your mileage will vary considerably with each project, but the general ideas are similar. \n",
    "\n",
    "One last thing you may want to do before preparing the data for Machine Learning algorithms is to try out various attribute combinations. For example, the total number of rooms in a district is not very useful if you don’t know how many households there are. What you really want is the number of rooms per household. Similarly, the total number of bedrooms by itself is not very useful: you probably want to compare it to the number of rooms. And the population per household also seems like an interesting attribute combination to look at. Let’s create these new attributes:\n"
   ]
  },
  {
   "cell_type": "code",
   "execution_count": null,
   "metadata": {},
   "outputs": [],
   "source": [
    "housing[\"rooms_per_household\"] = housing[\"total_rooms\"] / housing[\"households\"] \n",
    "housing[\"bedrooms_per_room\"] = housing[\"total_bedrooms\"]/ housing[\"total_rooms\"] \n",
    "housing[\"population_per_household\"] = housing[\"population\"]/ housing[\"households\"] \n",
    "\n",
    "# And now let’s look at the correlation matrix again:\n",
    "\n",
    "corr_matrix = housing.corr()\n",
    "corr_matrix[\"median_house_value\"].sort_values(ascending = False)"
   ]
  },
  {
   "cell_type": "markdown",
   "metadata": {},
   "source": [
    "## Prepare the Data for Machine Learning Algorithms\n",
    "\n",
    "But first let’s revert to a clean training set (by copying strat_train_set once again). Let’s also separate the predictors and the labels, since we don’t necessarily want to apply the same transformations to the predictors and the target values (note that drop() creates a copy of the data and does not affect strat_train_set): "
   ]
  },
  {
   "cell_type": "code",
   "execution_count": null,
   "metadata": {},
   "outputs": [],
   "source": [
    "housing = strat_train_set.drop(\"median_house_value\", axis = 1) \n",
    "housing_labels = strat_train_set[\"median_house_value\"].copy()"
   ]
  },
  {
   "cell_type": "markdown",
   "metadata": {},
   "source": [
    "### Data Cleaning\n",
    "\n",
    "Most Machine Learning algorithms cannot work with missing features, so let’s create a few functions to take care of them. We saw earlier that the total_bedrooms attribute has some missing values, so let’s fix this. You have three options: \n",
    "- Get rid of the corresponding districts. \n",
    "- Get rid of the whole attribute. \n",
    "- Set the values to some value (zero, the mean, the median, etc.).\n",
    "\n",
    "You can accomplish these easily using DataFrame’s dropna(), drop(), and fillna() methods:"
   ]
  },
  {
   "cell_type": "code",
   "execution_count": null,
   "metadata": {},
   "outputs": [],
   "source": [
    "housing.dropna(subset = [\"total_bedrooms\"]) # option 1 "
   ]
  },
  {
   "cell_type": "code",
   "execution_count": null,
   "metadata": {},
   "outputs": [],
   "source": [
    "housing.drop(\"total_bedrooms\", axis = 1) # option 2"
   ]
  },
  {
   "cell_type": "code",
   "execution_count": null,
   "metadata": {},
   "outputs": [],
   "source": [
    "median = housing[\"total_bedrooms\"].median() # option 3 \n",
    "housing[\"total_bedrooms\"].fillna(median, inplace = True)"
   ]
  },
  {
   "cell_type": "markdown",
   "metadata": {},
   "source": [
    "If you choose option 3, you should compute the median value on the training set and use it to fill the missing values in the training set. Don’t forget to save the median value that you have computed. You will need it later to replace missing values in the test set when you want to evaluate your system, and also once the system goes live to replace missing values in new data. Scikit-Learn provides a handy class to take care of missing values: *SimpleImputer*. \n",
    "\n",
    "Here is how to use it. First, you need to create a SimpleImputer instance, specifying that you want to replace each attribute’s missing values with the median of that attribute:"
   ]
  },
  {
   "cell_type": "code",
   "execution_count": null,
   "metadata": {},
   "outputs": [],
   "source": [
    "from sklearn.impute import SimpleImputer \n",
    "imputer = SimpleImputer(strategy = \"median\")"
   ]
  },
  {
   "cell_type": "markdown",
   "metadata": {},
   "source": [
    "Since the median can only be computed on numerical attributes, you need to create a copy of the data without the text attribute ocean_proximity: "
   ]
  },
  {
   "cell_type": "code",
   "execution_count": null,
   "metadata": {},
   "outputs": [],
   "source": [
    "housing_num = housing.drop(\"ocean_proximity\", axis = 1)"
   ]
  },
  {
   "cell_type": "markdown",
   "metadata": {},
   "source": [
    " Now you can fit the imputer instance to the training data using the fit() method:"
   ]
  },
  {
   "cell_type": "code",
   "execution_count": null,
   "metadata": {},
   "outputs": [],
   "source": [
    " imputer.fit(housing_num)"
   ]
  },
  {
   "cell_type": "code",
   "execution_count": null,
   "metadata": {},
   "outputs": [],
   "source": [
    "imputer.statistics_"
   ]
  },
  {
   "cell_type": "code",
   "execution_count": null,
   "metadata": {},
   "outputs": [],
   "source": [
    "housing_num.median().values"
   ]
  },
  {
   "cell_type": "code",
   "execution_count": null,
   "metadata": {},
   "outputs": [],
   "source": [
    "# Now you can use this “trained” imputer to transform the training set \n",
    "# by replacing missing values with the learned medians: \n",
    "\n",
    "X = imputer.transform( housing_num)\n",
    "\n",
    "# The result is a plain NumPy array containing the transformed features. \n",
    "# If you want to put it back into a pandas DataFrame, it’s simple: \n",
    "\n",
    "housing_tr = pd.DataFrame(X, columns = housing_num.columns, index = housing_num.index)\n",
    "\n",
    "# Géron, Aurélien. Hands-On Machine Learning with Scikit-Learn, Keras, and TensorFlow (p. 64). O'Reilly Media. Kindle Edition. "
   ]
  },
  {
   "cell_type": "code",
   "execution_count": null,
   "metadata": {},
   "outputs": [],
   "source": [
    "X"
   ]
  },
  {
   "cell_type": "code",
   "execution_count": null,
   "metadata": {},
   "outputs": [],
   "source": []
  }
 ],
 "metadata": {
  "kernelspec": {
   "display_name": "Python 3",
   "language": "python",
   "name": "python3"
  },
  "language_info": {
   "codemirror_mode": {
    "name": "ipython",
    "version": 3
   },
   "file_extension": ".py",
   "mimetype": "text/x-python",
   "name": "python",
   "nbconvert_exporter": "python",
   "pygments_lexer": "ipython3",
   "version": "3.8.7"
  }
 },
 "nbformat": 4,
 "nbformat_minor": 4
}
