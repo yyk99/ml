{
 "cells": [
  {
   "cell_type": "code",
   "execution_count": 1,
   "metadata": {},
   "outputs": [
    {
     "name": "stdout",
     "output_type": "stream",
     "text": [
      "2015-01-05 is 1420437600.0\n",
      "date              datetime64[ns]\n",
      "count1                   float64\n",
      "count2                   float64\n",
      "time                      object\n",
      "notes                     object\n",
      "used (kWh)               float64\n",
      "date_time         datetime64[ns]\n",
      "hours                    float64\n",
      "kW                       float64\n",
      "Average                  float64\n",
      "Estimate ($)              object\n",
      "Estimate (kWh)            object\n",
      "Paid                      object\n",
      "dtype: object\n"
     ]
    },
    {
     "data": {
      "text/html": [
       "<div>\n",
       "<style scoped>\n",
       "    .dataframe tbody tr th:only-of-type {\n",
       "        vertical-align: middle;\n",
       "    }\n",
       "\n",
       "    .dataframe tbody tr th {\n",
       "        vertical-align: top;\n",
       "    }\n",
       "\n",
       "    .dataframe thead th {\n",
       "        text-align: right;\n",
       "    }\n",
       "</style>\n",
       "<table border=\"1\" class=\"dataframe\">\n",
       "  <thead>\n",
       "    <tr style=\"text-align: right;\">\n",
       "      <th></th>\n",
       "      <th>date</th>\n",
       "      <th>count1</th>\n",
       "      <th>date_time</th>\n",
       "      <th>Paid</th>\n",
       "    </tr>\n",
       "  </thead>\n",
       "  <tbody>\n",
       "    <tr>\n",
       "      <th>0</th>\n",
       "      <td>2019-09-05</td>\n",
       "      <td>58150.0</td>\n",
       "      <td>2019-09-05 00:00:00</td>\n",
       "      <td>NaN</td>\n",
       "    </tr>\n",
       "    <tr>\n",
       "      <th>1</th>\n",
       "      <td>2019-10-04</td>\n",
       "      <td>60664.0</td>\n",
       "      <td>2019-10-04 00:00:00</td>\n",
       "      <td>$292.04</td>\n",
       "    </tr>\n",
       "    <tr>\n",
       "      <th>2</th>\n",
       "      <td>2019-11-04</td>\n",
       "      <td>62237.0</td>\n",
       "      <td>2019-11-04 00:00:00</td>\n",
       "      <td>$184.64</td>\n",
       "    </tr>\n",
       "    <tr>\n",
       "      <th>3</th>\n",
       "      <td>2019-12-05</td>\n",
       "      <td>63875.0</td>\n",
       "      <td>2019-12-05 00:00:00</td>\n",
       "      <td>$191.93</td>\n",
       "    </tr>\n",
       "    <tr>\n",
       "      <th>4</th>\n",
       "      <td>2020-01-08</td>\n",
       "      <td>65920.0</td>\n",
       "      <td>2020-01-08 00:00:00</td>\n",
       "      <td>$237.43</td>\n",
       "    </tr>\n",
       "    <tr>\n",
       "      <th>...</th>\n",
       "      <td>...</td>\n",
       "      <td>...</td>\n",
       "      <td>...</td>\n",
       "      <td>...</td>\n",
       "    </tr>\n",
       "    <tr>\n",
       "      <th>70</th>\n",
       "      <td>2020-04-10</td>\n",
       "      <td>70997.0</td>\n",
       "      <td>2020-04-10 12:57:00</td>\n",
       "      <td>NaN</td>\n",
       "    </tr>\n",
       "    <tr>\n",
       "      <th>71</th>\n",
       "      <td>2020-04-10</td>\n",
       "      <td>71003.0</td>\n",
       "      <td>2020-04-10 15:45:00</td>\n",
       "      <td>NaN</td>\n",
       "    </tr>\n",
       "    <tr>\n",
       "      <th>72</th>\n",
       "      <td>2020-04-10</td>\n",
       "      <td>71007.0</td>\n",
       "      <td>2020-04-10 18:41:00</td>\n",
       "      <td>NaN</td>\n",
       "    </tr>\n",
       "    <tr>\n",
       "      <th>73</th>\n",
       "      <td>2020-04-10</td>\n",
       "      <td>71013.0</td>\n",
       "      <td>2020-04-10 21:17:00</td>\n",
       "      <td>NaN</td>\n",
       "    </tr>\n",
       "    <tr>\n",
       "      <th>74</th>\n",
       "      <td>2020-04-11</td>\n",
       "      <td>71020.0</td>\n",
       "      <td>2020-04-11 06:37:00</td>\n",
       "      <td>NaN</td>\n",
       "    </tr>\n",
       "  </tbody>\n",
       "</table>\n",
       "<p>75 rows × 4 columns</p>\n",
       "</div>"
      ],
      "text/plain": [
       "         date   count1           date_time     Paid\n",
       "0  2019-09-05  58150.0 2019-09-05 00:00:00      NaN\n",
       "1  2019-10-04  60664.0 2019-10-04 00:00:00  $292.04\n",
       "2  2019-11-04  62237.0 2019-11-04 00:00:00  $184.64\n",
       "3  2019-12-05  63875.0 2019-12-05 00:00:00  $191.93\n",
       "4  2020-01-08  65920.0 2020-01-08 00:00:00  $237.43\n",
       "..        ...      ...                 ...      ...\n",
       "70 2020-04-10  70997.0 2020-04-10 12:57:00      NaN\n",
       "71 2020-04-10  71003.0 2020-04-10 15:45:00      NaN\n",
       "72 2020-04-10  71007.0 2020-04-10 18:41:00      NaN\n",
       "73 2020-04-10  71013.0 2020-04-10 21:17:00      NaN\n",
       "74 2020-04-11  71020.0 2020-04-11 06:37:00      NaN\n",
       "\n",
       "[75 rows x 4 columns]"
      ]
     },
     "execution_count": 1,
     "metadata": {},
     "output_type": "execute_result"
    }
   ],
   "source": [
    "# https://docs.google.com/spreadsheets/d/1ycs9Ma3eN1iHTx9oBghzLDWlD-dKLJXUOrVauXs8dCA/edit#gid=0\n",
    "\n",
    "import pandas as pd\n",
    "from datetime import timedelta\n",
    "#from datetime import time\n",
    "\n",
    "import matplotlib.pyplot as plt \n",
    "import numpy as np\n",
    "import sklearn.linear_model\n",
    "\n",
    "import time\n",
    "import datetime\n",
    "d = datetime.date(2015,1,5)\n",
    "\n",
    "unixtime = time.mktime(d.timetuple())\n",
    "print(d, \"is\", unixtime)\n",
    "\n",
    "google_url = \"https://docs.google.com/spreadsheets/d/1ycs9Ma3eN1iHTx9oBghzLDWlD-dKLJXUOrVauXs8dCA/export?format=csv&gid=0\"\n",
    "electric_bill = pd.read_csv(google_url, \n",
    "                            parse_dates=[\"date\", \"date_time\"],\n",
    "                            dtype={'count1': 'float64', 'count2': 'float64'})\n",
    "print(electric_bill.dtypes);\n",
    "electric_bill[['date','count1','date_time','Paid']]"
   ]
  },
  {
   "cell_type": "code",
   "execution_count": 2,
   "metadata": {},
   "outputs": [
    {
     "data": {
      "image/png": "[encoded data removed]",
      "text/plain": [
       "<Figure size 864x432 with 1 Axes>"
      ]
     },
     "metadata": {
      "needs_background": "light"
     },
     "output_type": "display_data"
    }
   ],
   "source": [
    "electric_stats = electric_bill[['date_time','count1']]\n",
    "\n",
    "start_period = datetime.datetime(2020,3,10)\n",
    "end_period = datetime.datetime(2020,4,10)   # datetime.datetime.now()\n",
    "\n",
    "electric_stats = electric_stats[(electric_stats['date_time'] > start_period) \n",
    "                                & (electric_stats['date_time'] < end_period)].copy()\n",
    "electric_stats.plot(kind ='scatter', x =\"date_time\", y ='count1', figsize=(12, 6))\n",
    "plt.show()"
   ]
  },
  {
   "cell_type": "code",
   "execution_count": 3,
   "metadata": {
    "scrolled": true
   },
   "outputs": [
    {
     "data": {
      "image/png": "[encoded data removed]",
      "text/plain": [
       "<Figure size 864x360 with 1 Axes>"
      ]
     },
     "metadata": {
      "needs_background": "light"
     },
     "output_type": "display_data"
    }
   ],
   "source": [
    "electric_stats['time_stamp'] = electric_stats['date_time'].apply(lambda d: time.mktime(d.timetuple()))\n",
    "\n",
    "X = np.c_[electric_stats[\"time_stamp\"]] \n",
    "y = np.c_[electric_stats[\"count1\"]] \n",
    "\n",
    "electric_stats.plot(kind ='scatter', x =\"time_stamp\", y ='count1', figsize=(12, 5))\n",
    "\n",
    "# Select a linear model \n",
    "model = sklearn.linear_model.LinearRegression() \n",
    "\n",
    "# Train the model \n",
    "model.fit(X, y) \n",
    "\n",
    "y_predict = model.predict(X)\n",
    "plt.plot(X, y_predict, color='green')\n",
    "plt.show()"
   ]
  },
  {
   "cell_type": "code",
   "execution_count": 4,
   "metadata": {},
   "outputs": [
    {
     "name": "stdout",
     "output_type": "stream",
     "text": [
      "AB = (0.00031180999940261245, -423726.7767322598)\n",
      "Average kW = 1.1225159978494048\n"
     ]
    }
   ],
   "source": [
    "def get_model_coef(model):\n",
    "    '''Returns (a,b) linear coeficients of the model  y = aX + b'''\n",
    "    b = model.predict([[0.0]]);\n",
    "    a = model.predict([[1.0]]) - b;\n",
    "    \n",
    "    return (a[0][0], b[0][0])\n",
    "\n",
    "# test\n",
    "AB = get_model_coef(model)\n",
    "print('AB =', AB)\n",
    "print(\"Average kW =\", 3600 * AB[0])"
   ]
  },
  {
   "cell_type": "code",
   "execution_count": null,
   "metadata": {},
   "outputs": [],
   "source": []
  }
 ],
 "metadata": {
  "kernelspec": {
   "display_name": "Python 3",
   "language": "python",
   "name": "python3"
  },
  "language_info": {
   "codemirror_mode": {
    "name": "ipython",
    "version": 3
   },
   "file_extension": ".py",
   "mimetype": "text/x-python",
   "name": "python",
   "nbconvert_exporter": "python",
   "pygments_lexer": "ipython3",
   "version": "3.8.2"
  }
 },
 "nbformat": 4,
 "nbformat_minor": 4
}
