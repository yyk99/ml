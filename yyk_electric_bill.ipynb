{
 "cells": [
  {
   "cell_type": "code",
   "execution_count": 1,
   "metadata": {},
   "outputs": [
    {
     "data": {
      "text/html": [
       "<div>\n",
       "<style scoped>\n",
       "    .dataframe tbody tr th:only-of-type {\n",
       "        vertical-align: middle;\n",
       "    }\n",
       "\n",
       "    .dataframe tbody tr th {\n",
       "        vertical-align: top;\n",
       "    }\n",
       "\n",
       "    .dataframe thead th {\n",
       "        text-align: right;\n",
       "    }\n",
       "</style>\n",
       "<table border=\"1\" class=\"dataframe\">\n",
       "  <thead>\n",
       "    <tr style=\"text-align: right;\">\n",
       "      <th></th>\n",
       "      <th>date</th>\n",
       "      <th>count1</th>\n",
       "      <th>count2</th>\n",
       "      <th>time</th>\n",
       "      <th>notes</th>\n",
       "      <th>used (kWh)</th>\n",
       "      <th>date_time</th>\n",
       "      <th>hours</th>\n",
       "      <th>kW</th>\n",
       "      <th>Average</th>\n",
       "      <th>Estimate ($)</th>\n",
       "      <th>Estimate (kWh)</th>\n",
       "    </tr>\n",
       "  </thead>\n",
       "  <tbody>\n",
       "    <tr>\n",
       "      <th>0</th>\n",
       "      <td>2020-03-27</td>\n",
       "      <td>70601.0</td>\n",
       "      <td>2165.0</td>\n",
       "      <td>19:13</td>\n",
       "      <td>NaN</td>\n",
       "      <td>NaN</td>\n",
       "      <td>2020-03-27 19:13:00</td>\n",
       "      <td>NaN</td>\n",
       "      <td>NaN</td>\n",
       "      <td>NaN</td>\n",
       "      <td>NaN</td>\n",
       "      <td>NaN</td>\n",
       "    </tr>\n",
       "    <tr>\n",
       "      <th>1</th>\n",
       "      <td>2020-03-28</td>\n",
       "      <td>70631.0</td>\n",
       "      <td>NaN</td>\n",
       "      <td>14:30</td>\n",
       "      <td>NaN</td>\n",
       "      <td>30.0</td>\n",
       "      <td>2020-03-28 14:30:00</td>\n",
       "      <td>19.2833</td>\n",
       "      <td>1.55575</td>\n",
       "      <td>1.55575</td>\n",
       "      <td>$112.01</td>\n",
       "      <td>1,120.14</td>\n",
       "    </tr>\n",
       "    <tr>\n",
       "      <th>2</th>\n",
       "      <td>2020-03-28</td>\n",
       "      <td>70639.0</td>\n",
       "      <td>2165.0</td>\n",
       "      <td>20:56</td>\n",
       "      <td>NaN</td>\n",
       "      <td>8.0</td>\n",
       "      <td>2020-03-28 20:56:00</td>\n",
       "      <td>6.4333</td>\n",
       "      <td>1.24352</td>\n",
       "      <td>1.47764</td>\n",
       "      <td>$106.39</td>\n",
       "      <td>1,063.90</td>\n",
       "    </tr>\n",
       "    <tr>\n",
       "      <th>3</th>\n",
       "      <td>2020-03-29</td>\n",
       "      <td>70649.0</td>\n",
       "      <td>2165.0</td>\n",
       "      <td>09:36</td>\n",
       "      <td>-AC, DW</td>\n",
       "      <td>10.0</td>\n",
       "      <td>2020-03-29 09:36:00</td>\n",
       "      <td>12.6667</td>\n",
       "      <td>0.78947</td>\n",
       "      <td>1.25054</td>\n",
       "      <td>$90.04</td>\n",
       "      <td>900.39</td>\n",
       "    </tr>\n",
       "    <tr>\n",
       "      <th>4</th>\n",
       "      <td>2020-03-29</td>\n",
       "      <td>70652.0</td>\n",
       "      <td>NaN</td>\n",
       "      <td>13:42</td>\n",
       "      <td>NaN</td>\n",
       "      <td>3.0</td>\n",
       "      <td>2020-03-29 13:42:00</td>\n",
       "      <td>4.1000</td>\n",
       "      <td>0.73171</td>\n",
       "      <td>1.20047</td>\n",
       "      <td>$86.43</td>\n",
       "      <td>864.34</td>\n",
       "    </tr>\n",
       "  </tbody>\n",
       "</table>\n",
       "</div>"
      ],
      "text/plain": [
       "        date   count1  count2   time    notes  used (kWh)           date_time  \\\n",
       "0 2020-03-27  70601.0  2165.0  19:13      NaN         NaN 2020-03-27 19:13:00   \n",
       "1 2020-03-28  70631.0     NaN  14:30      NaN        30.0 2020-03-28 14:30:00   \n",
       "2 2020-03-28  70639.0  2165.0  20:56      NaN         8.0 2020-03-28 20:56:00   \n",
       "3 2020-03-29  70649.0  2165.0  09:36  -AC, DW        10.0 2020-03-29 09:36:00   \n",
       "4 2020-03-29  70652.0     NaN  13:42      NaN         3.0 2020-03-29 13:42:00   \n",
       "\n",
       "     hours       kW  Average Estimate ($) Estimate (kWh)  \n",
       "0      NaN      NaN      NaN          NaN            NaN  \n",
       "1  19.2833  1.55575  1.55575      $112.01       1,120.14  \n",
       "2   6.4333  1.24352  1.47764      $106.39       1,063.90  \n",
       "3  12.6667  0.78947  1.25054       $90.04         900.39  \n",
       "4   4.1000  0.73171  1.20047       $86.43         864.34  "
      ]
     },
     "execution_count": 1,
     "metadata": {},
     "output_type": "execute_result"
    }
   ],
   "source": [
    "# https://docs.google.com/spreadsheets/d/1ycs9Ma3eN1iHTx9oBghzLDWlD-dKLJXUOrVauXs8dCA/edit#gid=0\n",
    "\n",
    "import pandas as pd\n",
    "from datetime import timedelta\n",
    "from datetime import time\n",
    "\n",
    "import matplotlib.pyplot as plt \n",
    "import numpy as np\n",
    "import sklearn.linear_model \n",
    "\n",
    "google_url = \"https://docs.google.com/spreadsheets/d/1ycs9Ma3eN1iHTx9oBghzLDWlD-dKLJXUOrVauXs8dCA/export?format=csv&gid=0\"\n",
    "electric_bill = pd.read_csv(google_url, \n",
    "                            parse_dates=[\"date\", \"date_time\"],\n",
    "                            dtype={'count1': 'float64', 'count2': 'float64'})\n",
    "\n",
    "electric_bill.head()"
   ]
  },
  {
   "cell_type": "code",
   "execution_count": 2,
   "metadata": {},
   "outputs": [],
   "source": [
    "electric_stats = electric_bill[['date_time','count1']]\n",
    "X = np.c_[electric_stats[\"date_time\"]] \n",
    "y = np.c_[electric_stats[\"count1\"]] "
   ]
  },
  {
   "cell_type": "code",
   "execution_count": 3,
   "metadata": {},
   "outputs": [
    {
     "data": {
      "text/plain": [
       "date_time    datetime64[ns]\n",
       "count1              float64\n",
       "dtype: object"
      ]
     },
     "execution_count": 3,
     "metadata": {},
     "output_type": "execute_result"
    }
   ],
   "source": [
    "electric_stats.dtypes"
   ]
  },
  {
   "cell_type": "code",
   "execution_count": 4,
   "metadata": {},
   "outputs": [
    {
     "data": {
      "text/plain": [
       "LinearRegression(copy_X=True, fit_intercept=True, n_jobs=None, normalize=False)"
      ]
     },
     "execution_count": 4,
     "metadata": {},
     "output_type": "execute_result"
    },
    {
     "data": {
      "image/png": "[encoded data removed]",
      "text/plain": [
       "<Figure size 432x288 with 1 Axes>"
      ]
     },
     "metadata": {
      "needs_background": "light"
     },
     "output_type": "display_data"
    }
   ],
   "source": [
    "electric_stats.plot(kind ='scatter', x =\"date_time\", y ='count1') \n",
    "\n",
    "# Select a linear model \n",
    "model = sklearn.linear_model.LinearRegression() \n",
    "\n",
    "# Train the model \n",
    "model.fit(X, y) \n",
    "\n",
    "# Make a prediction for Cyprus \n",
    "# X_new = [[ 22587]] # Cyprus's GDP per capita \n",
    "# print(model.predict(X_new)) # outputs [[ 5.96242338]]\n",
    "\n",
    "# y_predict = model.predict(X)\n",
    "# plt.plot(X, y_predict, color='green')"
   ]
  },
  {
   "cell_type": "code",
   "execution_count": 5,
   "metadata": {},
   "outputs": [
    {
     "data": {
      "text/plain": [
       "LinearRegression(copy_X=True, fit_intercept=True, n_jobs=None, normalize=False)"
      ]
     },
     "execution_count": 5,
     "metadata": {},
     "output_type": "execute_result"
    }
   ],
   "source": [
    "model"
   ]
  },
  {
   "cell_type": "code",
   "execution_count": 7,
   "metadata": {},
   "outputs": [
    {
     "data": {
      "text/plain": [
       "array(['2020-03-27T19:13:00.000000000'], dtype='datetime64[ns]')"
      ]
     },
     "execution_count": 7,
     "metadata": {},
     "output_type": "execute_result"
    }
   ],
   "source": [
    "X[0]"
   ]
  },
  {
   "cell_type": "code",
   "execution_count": 11,
   "metadata": {},
   "outputs": [
    {
     "data": {
      "text/plain": [
       "numpy.datetime64"
      ]
     },
     "execution_count": 11,
     "metadata": {},
     "output_type": "execute_result"
    }
   ],
   "source": [
    "type(X[0][0])"
   ]
  },
  {
   "cell_type": "code",
   "execution_count": 11,
   "metadata": {},
   "outputs": [
    {
     "data": {
      "text/plain": [
       "array([[-377738.11307935]])"
      ]
     },
     "execution_count": 11,
     "metadata": {},
     "output_type": "execute_result"
    }
   ],
   "source": [
    "y_predict"
   ]
  },
  {
   "cell_type": "code",
   "execution_count": null,
   "metadata": {},
   "outputs": [],
   "source": []
  }
 ],
 "metadata": {
  "kernelspec": {
   "display_name": "Python 3",
   "language": "python",
   "name": "python3"
  },
  "language_info": {
   "codemirror_mode": {
    "name": "ipython",
    "version": 3
   },
   "file_extension": ".py",
   "mimetype": "text/x-python",
   "name": "python",
   "nbconvert_exporter": "python",
   "pygments_lexer": "ipython3",
   "version": "3.8.2"
  }
 },
 "nbformat": 4,
 "nbformat_minor": 4
}
