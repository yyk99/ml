{
 "cells": [
  {
   "cell_type": "code",
   "execution_count": null,
   "metadata": {},
   "outputs": [],
   "source": [
    "# https://docs.google.com/spreadsheets/d/1ycs9Ma3eN1iHTx9oBghzLDWlD-dKLJXUOrVauXs8dCA/edit#gid=0\n",
    "\n",
    "import pandas as pd\n",
    "from datetime import timedelta\n",
    "#from datetime import time\n",
    "\n",
    "import matplotlib.pyplot as plt \n",
    "import numpy as np\n",
    "import sklearn.linear_model\n",
    "\n",
    "import time\n",
    "import datetime\n",
    "d = datetime.date(2015,1,5)\n",
    "\n",
    "unixtime = time.mktime(d.timetuple())\n",
    "print(d, \"is\", unixtime)\n",
    "\n",
    "google_url = \"https://docs.google.com/spreadsheets/d/1ycs9Ma3eN1iHTx9oBghzLDWlD-dKLJXUOrVauXs8dCA/export?format=csv&gid=0\"\n",
    "electric_bill = pd.read_csv(google_url, \n",
    "                            parse_dates=[\"date\", \"date_time\"],\n",
    "                            dtype={'count1': 'float64', 'count2': 'float64'})\n",
    "print(electric_bill.dtypes);\n",
    "electric_bill[['date','count1','date_time','Paid']]"
   ]
  },
  {
   "cell_type": "code",
   "execution_count": null,
   "metadata": {},
   "outputs": [],
   "source": [
    "electric_stats = electric_bill[['date_time','count1']]\n",
    "\n",
    "start_period = datetime.datetime(2020,3,10)\n",
    "end_period = datetime.datetime(2020,4,10)   # datetime.datetime.now()\n",
    "\n",
    "electric_stats = electric_stats[(electric_stats['date_time'] > start_period) \n",
    "                                & (electric_stats['date_time'] < end_period)].copy()\n",
    "electric_stats.plot(kind ='scatter', x =\"date_time\", y ='count1', figsize=(12, 6))\n",
    "plt.show()"
   ]
  },
  {
   "cell_type": "code",
   "execution_count": null,
   "metadata": {
    "scrolled": true
   },
   "outputs": [],
   "source": [
    "electric_stats['time_stamp'] = electric_stats['date_time'].apply(lambda d: time.mktime(d.timetuple()))\n",
    "\n",
    "X = np.c_[electric_stats[\"time_stamp\"]] \n",
    "y = np.c_[electric_stats[\"count1\"]] \n",
    "\n",
    "electric_stats.plot(kind ='scatter', x =\"time_stamp\", y ='count1', figsize=(12, 5))\n",
    "\n",
    "# Select a linear model \n",
    "model = sklearn.linear_model.LinearRegression() \n",
    "\n",
    "# Train the model \n",
    "model.fit(X, y) \n",
    "\n",
    "y_predict = model.predict(X)\n",
    "plt.plot(X, y_predict, color='green')\n",
    "plt.show()"
   ]
  },
  {
   "cell_type": "code",
   "execution_count": null,
   "metadata": {},
   "outputs": [],
   "source": [
    "def get_model_coef(model):\n",
    "    '''Returns (a,b) linear coeficients of the model  y = aX + b'''\n",
    "    b = model.predict([[0.0]]);\n",
    "    a = model.predict([[1.0]]) - b;\n",
    "    \n",
    "    return (a[0][0], b[0][0])\n",
    "\n",
    "# test\n",
    "AB = get_model_coef(model)\n",
    "print('AB =', AB)\n",
    "print(\"Average kW =\", 3600 * AB[0])"
   ]
  }
 ],
 "metadata": {
  "kernelspec": {
   "display_name": "Python 3",
   "language": "python",
   "name": "python3"
  },
  "language_info": {
   "codemirror_mode": {
    "name": "ipython",
    "version": 3
   },
   "file_extension": ".py",
   "mimetype": "text/x-python",
   "name": "python",
   "nbconvert_exporter": "python",
   "pygments_lexer": "ipython3",
   "version": "3.8.7"
  }
 },
 "nbformat": 4,
 "nbformat_minor": 4
}
